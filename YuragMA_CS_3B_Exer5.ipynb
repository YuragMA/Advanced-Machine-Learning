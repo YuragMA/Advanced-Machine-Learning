{
  "nbformat": 4,
  "nbformat_minor": 0,
  "metadata": {
    "colab": {
      "provenance": []
    },
    "kernelspec": {
      "name": "python3",
      "display_name": "Python 3"
    },
    "language_info": {
      "name": "python"
    }
  },
  "cells": [
    {
      "cell_type": "markdown",
      "source": [
        "# **Advanced Machine Learning**\n",
        "\n",
        "Yurag, Marivient Alexia R.\n",
        "\n",
        "BSCS - IS - 3B\n",
        "\n",
        "February 28, 2024\n",
        "\n",
        "Exercise 5 Activity"
      ],
      "metadata": {
        "id": "c7Mgy2KqWMf2"
      }
    },
    {
      "cell_type": "markdown",
      "source": [
        "**Multiple Linear Regression for Grades Prediction**"
      ],
      "metadata": {
        "id": "C1to-338WVzZ"
      }
    },
    {
      "cell_type": "markdown",
      "source": [
        "**1. Importing Libraries**"
      ],
      "metadata": {
        "id": "W7r-CBhFWyjr"
      }
    },
    {
      "cell_type": "code",
      "execution_count": 80,
      "metadata": {
        "id": "YvLhEVbsWHec"
      },
      "outputs": [],
      "source": [
        "import pandas as pd\n",
        "import numpy as np\n",
        "import matplotlib.pyplot as plt\n",
        "from sklearn.linear_model import LinearRegression\n",
        "from sklearn.model_selection import train_test_split\n",
        "from sklearn.metrics import mean_squared_error"
      ]
    },
    {
      "cell_type": "markdown",
      "source": [
        "**2. Importing Data**"
      ],
      "metadata": {
        "id": "cn4QDig8Wu0V"
      }
    },
    {
      "cell_type": "code",
      "source": [
        "data = pd.read_csv('Lesson_4_student_grades_dataset.csv')"
      ],
      "metadata": {
        "id": "C82aOZ6-W4dK"
      },
      "execution_count": 81,
      "outputs": []
    },
    {
      "cell_type": "markdown",
      "source": [
        "**3. Converting to a DataFrame**"
      ],
      "metadata": {
        "id": "P_fMKtNgXdsj"
      }
    },
    {
      "cell_type": "code",
      "source": [
        "X = pd.DataFrame(data, columns=['Hours_of_Study', 'Previous_Exam_Scores', 'Attendance_Percentage', 'Extracurricular_Activities'])\n",
        "y = data['Grades']\n",
        "\n",
        "# Splitting the data into training and testing sets\n",
        "X_train, X_test, y_train, y_test = train_test_split(X, y, test_size=0.2, random_state=42)\n"
      ],
      "metadata": {
        "id": "PWtkFkNIXkRC"
      },
      "execution_count": 82,
      "outputs": []
    },
    {
      "cell_type": "markdown",
      "source": [
        "**4. Fitting the Model**"
      ],
      "metadata": {
        "id": "bCX754f9ZxTq"
      }
    },
    {
      "cell_type": "code",
      "source": [
        "model = LinearRegression()\n",
        "model.fit(X_train, y_train)"
      ],
      "metadata": {
        "colab": {
          "base_uri": "https://localhost:8080/",
          "height": 75
        },
        "id": "Z83r2M5iZz04",
        "outputId": "56d6dae8-dabc-42fe-952c-be8fafce1f0c"
      },
      "execution_count": 83,
      "outputs": [
        {
          "output_type": "execute_result",
          "data": {
            "text/plain": [
              "LinearRegression()"
            ],
            "text/html": [
              "<style>#sk-container-id-10 {color: black;background-color: white;}#sk-container-id-10 pre{padding: 0;}#sk-container-id-10 div.sk-toggleable {background-color: white;}#sk-container-id-10 label.sk-toggleable__label {cursor: pointer;display: block;width: 100%;margin-bottom: 0;padding: 0.3em;box-sizing: border-box;text-align: center;}#sk-container-id-10 label.sk-toggleable__label-arrow:before {content: \"▸\";float: left;margin-right: 0.25em;color: #696969;}#sk-container-id-10 label.sk-toggleable__label-arrow:hover:before {color: black;}#sk-container-id-10 div.sk-estimator:hover label.sk-toggleable__label-arrow:before {color: black;}#sk-container-id-10 div.sk-toggleable__content {max-height: 0;max-width: 0;overflow: hidden;text-align: left;background-color: #f0f8ff;}#sk-container-id-10 div.sk-toggleable__content pre {margin: 0.2em;color: black;border-radius: 0.25em;background-color: #f0f8ff;}#sk-container-id-10 input.sk-toggleable__control:checked~div.sk-toggleable__content {max-height: 200px;max-width: 100%;overflow: auto;}#sk-container-id-10 input.sk-toggleable__control:checked~label.sk-toggleable__label-arrow:before {content: \"▾\";}#sk-container-id-10 div.sk-estimator input.sk-toggleable__control:checked~label.sk-toggleable__label {background-color: #d4ebff;}#sk-container-id-10 div.sk-label input.sk-toggleable__control:checked~label.sk-toggleable__label {background-color: #d4ebff;}#sk-container-id-10 input.sk-hidden--visually {border: 0;clip: rect(1px 1px 1px 1px);clip: rect(1px, 1px, 1px, 1px);height: 1px;margin: -1px;overflow: hidden;padding: 0;position: absolute;width: 1px;}#sk-container-id-10 div.sk-estimator {font-family: monospace;background-color: #f0f8ff;border: 1px dotted black;border-radius: 0.25em;box-sizing: border-box;margin-bottom: 0.5em;}#sk-container-id-10 div.sk-estimator:hover {background-color: #d4ebff;}#sk-container-id-10 div.sk-parallel-item::after {content: \"\";width: 100%;border-bottom: 1px solid gray;flex-grow: 1;}#sk-container-id-10 div.sk-label:hover label.sk-toggleable__label {background-color: #d4ebff;}#sk-container-id-10 div.sk-serial::before {content: \"\";position: absolute;border-left: 1px solid gray;box-sizing: border-box;top: 0;bottom: 0;left: 50%;z-index: 0;}#sk-container-id-10 div.sk-serial {display: flex;flex-direction: column;align-items: center;background-color: white;padding-right: 0.2em;padding-left: 0.2em;position: relative;}#sk-container-id-10 div.sk-item {position: relative;z-index: 1;}#sk-container-id-10 div.sk-parallel {display: flex;align-items: stretch;justify-content: center;background-color: white;position: relative;}#sk-container-id-10 div.sk-item::before, #sk-container-id-10 div.sk-parallel-item::before {content: \"\";position: absolute;border-left: 1px solid gray;box-sizing: border-box;top: 0;bottom: 0;left: 50%;z-index: -1;}#sk-container-id-10 div.sk-parallel-item {display: flex;flex-direction: column;z-index: 1;position: relative;background-color: white;}#sk-container-id-10 div.sk-parallel-item:first-child::after {align-self: flex-end;width: 50%;}#sk-container-id-10 div.sk-parallel-item:last-child::after {align-self: flex-start;width: 50%;}#sk-container-id-10 div.sk-parallel-item:only-child::after {width: 0;}#sk-container-id-10 div.sk-dashed-wrapped {border: 1px dashed gray;margin: 0 0.4em 0.5em 0.4em;box-sizing: border-box;padding-bottom: 0.4em;background-color: white;}#sk-container-id-10 div.sk-label label {font-family: monospace;font-weight: bold;display: inline-block;line-height: 1.2em;}#sk-container-id-10 div.sk-label-container {text-align: center;}#sk-container-id-10 div.sk-container {/* jupyter's `normalize.less` sets `[hidden] { display: none; }` but bootstrap.min.css set `[hidden] { display: none !important; }` so we also need the `!important` here to be able to override the default hidden behavior on the sphinx rendered scikit-learn.org. See: https://github.com/scikit-learn/scikit-learn/issues/21755 */display: inline-block !important;position: relative;}#sk-container-id-10 div.sk-text-repr-fallback {display: none;}</style><div id=\"sk-container-id-10\" class=\"sk-top-container\"><div class=\"sk-text-repr-fallback\"><pre>LinearRegression()</pre><b>In a Jupyter environment, please rerun this cell to show the HTML representation or trust the notebook. <br />On GitHub, the HTML representation is unable to render, please try loading this page with nbviewer.org.</b></div><div class=\"sk-container\" hidden><div class=\"sk-item\"><div class=\"sk-estimator sk-toggleable\"><input class=\"sk-toggleable__control sk-hidden--visually\" id=\"sk-estimator-id-10\" type=\"checkbox\" checked><label for=\"sk-estimator-id-10\" class=\"sk-toggleable__label sk-toggleable__label-arrow\">LinearRegression</label><div class=\"sk-toggleable__content\"><pre>LinearRegression()</pre></div></div></div></div></div>"
            ]
          },
          "metadata": {},
          "execution_count": 83
        }
      ]
    },
    {
      "cell_type": "markdown",
      "source": [
        "**5. Making Predictions**"
      ],
      "metadata": {
        "id": "MLIlKkSUZ3d7"
      }
    },
    {
      "cell_type": "code",
      "source": [
        "y_predict = model.predict(X_test)\n",
        "print(\"Predictions on test data:\")\n",
        "print(y_predict)"
      ],
      "metadata": {
        "id": "rhfa-730Z6I_",
        "colab": {
          "base_uri": "https://localhost:8080/"
        },
        "outputId": "ec7153e5-0be9-4b70-a942-25d893e1be63"
      },
      "execution_count": 84,
      "outputs": [
        {
          "output_type": "stream",
          "name": "stdout",
          "text": [
            "Predictions on test data:\n",
            "[36.29368548 33.26378104 33.8060675  38.5005146  33.03498419 33.0880459\n",
            " 26.59696153 31.92107167 29.73310911 30.49114156 37.92308459 35.40470912\n",
            " 44.01017897 35.93915047 43.29184491 33.37111072 37.31521169 28.72004719\n",
            " 28.98320592 34.22818282 29.71800004 31.40779083 34.79984737 42.64739784\n",
            " 36.54985642 39.6454142  42.22167183 34.86210299 33.02389043 32.76238233\n",
            " 40.34988603 40.00611393 35.18642675 35.97575918 37.28653059 41.77301629\n",
            " 36.87875512 42.99055408 32.76868151 34.50817062 36.09764662 38.02342766\n",
            " 32.5604752  34.71112962 36.70912358 42.02566681 38.56242259 31.37255645\n",
            " 34.17329745 31.57103751 33.01094589 34.3159299  38.04509872 37.46737294\n",
            " 30.44533733 27.38992818 36.10338753 29.80004217 32.27955919 38.10385215\n",
            " 33.86361582 41.29287912 37.67446144 45.85210214 23.75836227 31.88527089\n",
            " 32.85242308 30.20850673 41.41346812 39.09834125 45.99685506 33.82640058\n",
            " 42.86875584 31.03899921 36.23290457 32.55667658 30.84203054 29.25370421\n",
            " 36.69475968 41.43076087 41.00089582 32.3475058  32.57885714 34.11122562\n",
            " 34.23490078 29.82467465 29.60336438 29.32009884 29.71390044 29.39787482\n",
            " 47.0388316  40.393704   31.52584865 39.67988245 30.24036387 34.89389342\n",
            " 25.69085294 41.69083143 37.25116895 33.39726134 38.76461683 45.29503616\n",
            " 34.50936052 38.27477803 34.0308612  29.46927398 27.67446862 39.8726347\n",
            " 36.67831078 39.82330603 28.05358314 31.50528973 37.03640197 32.67351312\n",
            " 34.97204806 40.01195952 37.55218907 43.41811562 36.8729729  28.18965635\n",
            " 39.75675809 46.58794006 36.54832728 41.03793052 28.23017936 36.36816824\n",
            " 37.51965855 35.45442023 39.04644638 45.61211865 35.11891414 37.98895759\n",
            " 33.42513554 43.06796595 41.15778801 41.03927307 40.63114099 28.81615704\n",
            " 31.25576706 30.8532458  39.83009547 41.3167523  34.10379819 32.67412103\n",
            " 38.55440272 30.01528019 37.73564963 43.3577993  35.57727146 39.90471219\n",
            " 40.72567041 34.52263536 25.85296286 44.68278004 39.08742943 38.53335913\n",
            " 37.93953939 29.33572055 35.04411534 27.01910187 42.51055479 36.27665902\n",
            " 39.34799595 26.10008864 37.42642439 38.51675527 29.85935598 33.1677131\n",
            " 45.49054021 36.0757763  36.33306305 37.04315423 35.41911083 40.46065279\n",
            " 36.577925   34.38423816 43.62312796 37.20817526 43.57385645 27.22815279\n",
            " 34.31220386 33.87904724 41.07471695 28.49623525 35.06926517 37.09762809\n",
            " 31.47932787 30.3923306  38.18680905 33.55006837 36.99596509 31.34759773\n",
            " 37.44532999 35.70202759 40.48826553 46.41043782 37.01386007 28.33872473\n",
            " 39.49598029 37.70700652]\n"
          ]
        }
      ]
    },
    {
      "cell_type": "markdown",
      "source": [
        "**6. Calculating the Mean  Squeared Error**"
      ],
      "metadata": {
        "id": "0NtrKHNJZ-NX"
      }
    },
    {
      "cell_type": "code",
      "source": [
        "mse = mean_squared_error(y_test, y_predict)\n",
        "print(f\"Mean Squared Error: {mse}\")"
      ],
      "metadata": {
        "colab": {
          "base_uri": "https://localhost:8080/"
        },
        "id": "AI41k5-9aEPH",
        "outputId": "e132211f-abfc-485f-e5f5-7d269bbdca62"
      },
      "execution_count": 85,
      "outputs": [
        {
          "output_type": "stream",
          "name": "stdout",
          "text": [
            "Mean Squared Error: 23.730198195096865\n"
          ]
        }
      ]
    },
    {
      "cell_type": "markdown",
      "source": [
        "**7. Predicting the New Grades**"
      ],
      "metadata": {
        "id": "6IVInOwtaLOU"
      }
    },
    {
      "cell_type": "code",
      "source": [
        "new_grades_data = pd.DataFrame([[0.5, 2, 10, 30]], columns=['Hours_of_Study', 'Previous_Exam_Scores', 'Attendance_Percentage', 'Extracurricular_Activities'])\n",
        "predicted_grades = model.predict(new_grades_data)\n",
        "print(f\"Predicted grades for new data: {predicted_grades[0]}\")"
      ],
      "metadata": {
        "colab": {
          "base_uri": "https://localhost:8080/"
        },
        "id": "vFFSSskBaTUr",
        "outputId": "1b65196e-e069-422a-c826-319fe0717190"
      },
      "execution_count": 86,
      "outputs": [
        {
          "output_type": "stream",
          "name": "stdout",
          "text": [
            "Predicted grades for new data: 148.58745467551927\n"
          ]
        }
      ]
    }
  ]
}